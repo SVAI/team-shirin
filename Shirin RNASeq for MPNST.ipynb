{
 "cells": [
  {
   "cell_type": "markdown",
   "metadata": {},
   "source": [
    "# Mining RNASeq for new MPNST drug targets\n",
    "\n",
    "## Summary:\n",
    "\n",
    "This notebook covers our NF Hackathon 2 effort to mine the RNASeq gene expression dataset for possible new drug targets. RNASeq includes a variety of tumor types; we concentrated on CNF. Our strategy was to compare gene expression values between CNF samples and as close as we could get to a control group of normal tissue. We then took the set of genes that appeared \"most disrupted\" vs. normal, and cross-checked it against Synapese's Drug Target Explorer. We found that a high proportion of this \"most disrupted\" gene set appeared in the Drug Target Explorer as having known associations with copper. This seems intriguing - while copper is apparently novel in the NF1/CNF context it has a well-established role in many disease processes - notably, it appears heavily involved in angiogenesis and tumor formation, likely through a variety of pathways. A number of drugs are used to reduce copper levels (ex. in Wilson's disease), including penicillamine and TM (tetrathiomolybdate); TM has also been investigated for cancer treatment. Perhaps this suggests a direction for drug development that could work on a number of pathways simultaneously, and possibly be synergistic with other drug approaches. For more details and references, see the readme file.\n"
   ]
  },
  {
   "cell_type": "markdown",
   "metadata": {},
   "source": [
    "\n",
    "## Import libraries and retrieve the RNASeq dataset from Synapse:"
   ]
  },
  {
   "cell_type": "code",
   "execution_count": 53,
   "metadata": {},
   "outputs": [
    {
     "data": {
      "text/html": [
       "<style>.container { width:100% !important; }</style>"
      ],
      "text/plain": [
       "<IPython.core.display.HTML object>"
      ]
     },
     "metadata": {},
     "output_type": "display_data"
    }
   ],
   "source": [
    "from IPython.core.display import display, HTML\n",
    "display(HTML(\"<style>.container { width:100% !important; }</style>\"))"
   ]
  },
  {
   "cell_type": "code",
   "execution_count": 95,
   "metadata": {},
   "outputs": [],
   "source": [
    "from copy import deepcopy"
   ]
  },
  {
   "cell_type": "code",
   "execution_count": 1,
   "metadata": {},
   "outputs": [],
   "source": [
    "import os\n",
    "use_saved = os.path.exists('rnaseq.pkl')\n",
    "if not use_saved :\n",
    "    import synapseclient\n",
    "    syn = synapseclient.Synapse()\n",
    "    ## log in using username and password\n",
    "    syn.login()"
   ]
  },
  {
   "cell_type": "code",
   "execution_count": 2,
   "metadata": {},
   "outputs": [],
   "source": [
    "import collections\n",
    "import csv\n",
    "import itertools\n",
    "import os\n",
    "\n",
    "import pandas as pd\n",
    "import numpy as np\n",
    "import matplotlib.pyplot as plt \n",
    "import matplotlib.style as style\n",
    "style.use('ggplot')\n",
    "#style.use('Solarize_Light2')\n",
    "from matplotlib import rcParams\n",
    "rcParams['pdf.fonttype'] = 42 ## Output Type 3 (Type3) or Type 42 (TrueType)\n",
    "rcParams['font.sans-serif'] = 'Arial'\n",
    "from pylab import *\n",
    "\n",
    "# ignore FutureWarning that may pop up when plotting\n",
    "import warnings\n",
    "warnings.filterwarnings(\"ignore\")\n",
    "import urllib3\n",
    "urllib3.disable_warnings()\n",
    "\n",
    "from dfply import *\n",
    "\n",
    "# For PCA\n",
    "from sklearn.decomposition import PCA"
   ]
  },
  {
   "cell_type": "code",
   "execution_count": 3,
   "metadata": {},
   "outputs": [],
   "source": [
    "if not use_saved :\n",
    "    entity = syn.get('syn20449214')\n",
    "    #entity.id"
   ]
  },
  {
   "cell_type": "code",
   "execution_count": 4,
   "metadata": {},
   "outputs": [],
   "source": [
    "if not use_saved :\n",
    "    results = syn.tableQuery(\"SELECT * FROM syn20449214\")\n",
    "    genes_with_meta = results.asDataFrame()\n",
    "    genes_with_meta.to_pickle('rnaseq.pkl')"
   ]
  },
  {
   "cell_type": "code",
   "execution_count": 5,
   "metadata": {},
   "outputs": [],
   "source": [
    "if use_saved :\n",
    "    genes_with_meta = pd.read_pickle('rnaseq.pkl')"
   ]
  },
  {
   "cell_type": "code",
   "execution_count": 6,
   "metadata": {
    "scrolled": true
   },
   "outputs": [
    {
     "data": {
      "text/plain": [
       "Index(['totalCounts', 'Symbol', 'path', 'zScore', 'specimenID', 'parent',\n",
       "       'individualID', 'assay', 'dataType', 'sex', 'consortium', 'study',\n",
       "       'diagnosis', 'tumorType', 'species', 'fundingAgency', 'resourceType',\n",
       "       'nf1Genotype', 'nf2Genotype', 'studyName', 'used', 'age', 'isCellLine',\n",
       "       'experimentalCondition', 'transplantationType', 'modelOf'],\n",
       "      dtype='object')"
      ]
     },
     "execution_count": 6,
     "metadata": {},
     "output_type": "execute_result"
    }
   ],
   "source": [
    "genes_with_meta.columns"
   ]
  },
  {
   "cell_type": "code",
   "execution_count": 7,
   "metadata": {},
   "outputs": [],
   "source": [
    "#Clean up data format\n",
    "genes_with_meta = genes_with_meta.replace(to_replace = \"male\", value = \"Male\")\n",
    "genes_with_meta = genes_with_meta.replace(to_replace = \"female\", value = \"Female\")\n",
    "genes_with_meta = genes_with_meta.rename(columns={'used': 'id'})\n",
    "genes_with_meta = genes_with_meta.reset_index()\n",
    "genes_with_meta = genes_with_meta.drop(labels=[\"index\", \"path\"], axis =1)\n",
    "#Quality control\n",
    "#removing any rows or columns with uncompliant values\n",
    "genes_with_meta = genes_with_meta[genes_with_meta.totalCounts != \"Male\"]"
   ]
  },
  {
   "cell_type": "markdown",
   "metadata": {},
   "source": [
    "\n",
    "## A quick look at the data:"
   ]
  },
  {
   "cell_type": "code",
   "execution_count": 8,
   "metadata": {},
   "outputs": [
    {
     "name": "stdout",
     "output_type": "stream",
     "text": [
      "Contents of the file:\n"
     ]
    },
    {
     "data": {
      "text/html": [
       "<div>\n",
       "<style scoped>\n",
       "    .dataframe tbody tr th:only-of-type {\n",
       "        vertical-align: middle;\n",
       "    }\n",
       "\n",
       "    .dataframe tbody tr th {\n",
       "        vertical-align: top;\n",
       "    }\n",
       "\n",
       "    .dataframe thead th {\n",
       "        text-align: right;\n",
       "    }\n",
       "</style>\n",
       "<table border=\"1\" class=\"dataframe\">\n",
       "  <thead>\n",
       "    <tr style=\"text-align: right;\">\n",
       "      <th></th>\n",
       "      <th>totalCounts</th>\n",
       "      <th>Symbol</th>\n",
       "      <th>zScore</th>\n",
       "      <th>specimenID</th>\n",
       "      <th>parent</th>\n",
       "      <th>individualID</th>\n",
       "      <th>assay</th>\n",
       "      <th>dataType</th>\n",
       "      <th>sex</th>\n",
       "      <th>consortium</th>\n",
       "      <th>...</th>\n",
       "      <th>resourceType</th>\n",
       "      <th>nf1Genotype</th>\n",
       "      <th>nf2Genotype</th>\n",
       "      <th>studyName</th>\n",
       "      <th>id</th>\n",
       "      <th>age</th>\n",
       "      <th>isCellLine</th>\n",
       "      <th>experimentalCondition</th>\n",
       "      <th>transplantationType</th>\n",
       "      <th>modelOf</th>\n",
       "    </tr>\n",
       "  </thead>\n",
       "  <tbody>\n",
       "    <tr>\n",
       "      <td>0</td>\n",
       "      <td>136.993</td>\n",
       "      <td>A1BG</td>\n",
       "      <td>-0.226861</td>\n",
       "      <td>patient10tumor1</td>\n",
       "      <td>syn18407530</td>\n",
       "      <td>patient10</td>\n",
       "      <td>rnaSeq</td>\n",
       "      <td>geneExpression</td>\n",
       "      <td>Male</td>\n",
       "      <td>CTF Biobank</td>\n",
       "      <td>...</td>\n",
       "      <td>experimentalData</td>\n",
       "      <td>-/-</td>\n",
       "      <td>unknown</td>\n",
       "      <td>Cutaneous Neurofibroma Data Resource</td>\n",
       "      <td>syn20430744</td>\n",
       "      <td>NaN</td>\n",
       "      <td>NaN</td>\n",
       "      <td>NaN</td>\n",
       "      <td>NaN</td>\n",
       "      <td>Cutaneous Neurofibroma</td>\n",
       "    </tr>\n",
       "    <tr>\n",
       "      <td>1</td>\n",
       "      <td>168.454</td>\n",
       "      <td>A1BG</td>\n",
       "      <td>-0.248889</td>\n",
       "      <td>patient10tumor2</td>\n",
       "      <td>syn18407530</td>\n",
       "      <td>patient10</td>\n",
       "      <td>rnaSeq</td>\n",
       "      <td>geneExpression</td>\n",
       "      <td>Male</td>\n",
       "      <td>CTF Biobank</td>\n",
       "      <td>...</td>\n",
       "      <td>experimentalData</td>\n",
       "      <td>-/-</td>\n",
       "      <td>unknown</td>\n",
       "      <td>Cutaneous Neurofibroma Data Resource</td>\n",
       "      <td>syn20430745</td>\n",
       "      <td>NaN</td>\n",
       "      <td>NaN</td>\n",
       "      <td>NaN</td>\n",
       "      <td>NaN</td>\n",
       "      <td>Cutaneous Neurofibroma</td>\n",
       "    </tr>\n",
       "    <tr>\n",
       "      <td>2</td>\n",
       "      <td>115.456</td>\n",
       "      <td>A1BG</td>\n",
       "      <td>-0.115625</td>\n",
       "      <td>patient10tumor3</td>\n",
       "      <td>syn18407530</td>\n",
       "      <td>patient10</td>\n",
       "      <td>rnaSeq</td>\n",
       "      <td>geneExpression</td>\n",
       "      <td>Male</td>\n",
       "      <td>CTF Biobank</td>\n",
       "      <td>...</td>\n",
       "      <td>experimentalData</td>\n",
       "      <td>-/-</td>\n",
       "      <td>unknown</td>\n",
       "      <td>Cutaneous Neurofibroma Data Resource</td>\n",
       "      <td>syn20430746</td>\n",
       "      <td>NaN</td>\n",
       "      <td>NaN</td>\n",
       "      <td>NaN</td>\n",
       "      <td>NaN</td>\n",
       "      <td>Cutaneous Neurofibroma</td>\n",
       "    </tr>\n",
       "  </tbody>\n",
       "</table>\n",
       "<p>3 rows × 25 columns</p>\n",
       "</div>"
      ],
      "text/plain": [
       "   totalCounts Symbol    zScore       specimenID       parent individualID  \\\n",
       "0      136.993   A1BG -0.226861  patient10tumor1  syn18407530    patient10   \n",
       "1      168.454   A1BG -0.248889  patient10tumor2  syn18407530    patient10   \n",
       "2      115.456   A1BG -0.115625  patient10tumor3  syn18407530    patient10   \n",
       "\n",
       "    assay        dataType   sex   consortium  ...      resourceType  \\\n",
       "0  rnaSeq  geneExpression  Male  CTF Biobank  ...  experimentalData   \n",
       "1  rnaSeq  geneExpression  Male  CTF Biobank  ...  experimentalData   \n",
       "2  rnaSeq  geneExpression  Male  CTF Biobank  ...  experimentalData   \n",
       "\n",
       "  nf1Genotype nf2Genotype                             studyName           id  \\\n",
       "0         -/-     unknown  Cutaneous Neurofibroma Data Resource  syn20430744   \n",
       "1         -/-     unknown  Cutaneous Neurofibroma Data Resource  syn20430745   \n",
       "2         -/-     unknown  Cutaneous Neurofibroma Data Resource  syn20430746   \n",
       "\n",
       "  age isCellLine experimentalCondition transplantationType  \\\n",
       "0 NaN        NaN                   NaN                 NaN   \n",
       "1 NaN        NaN                   NaN                 NaN   \n",
       "2 NaN        NaN                   NaN                 NaN   \n",
       "\n",
       "                  modelOf  \n",
       "0  Cutaneous Neurofibroma  \n",
       "1  Cutaneous Neurofibroma  \n",
       "2  Cutaneous Neurofibroma  \n",
       "\n",
       "[3 rows x 25 columns]"
      ]
     },
     "execution_count": 8,
     "metadata": {},
     "output_type": "execute_result"
    }
   ],
   "source": [
    "print(\"Contents of the file:\")\n",
    "genes_with_meta.head(3)"
   ]
  },
  {
   "cell_type": "markdown",
   "metadata": {},
   "source": [
    "The following table contains detailed descriptions of the metadata variables included in the data file:\n",
    "\n",
    "Var | Description\n",
    "--- | --- \n",
    " _id_  |  the synapseIDs of the individual files with raw data\n",
    " _specimenID_  |  individual samples\n",
    " _species_  |  the source of the specimen\n",
    " _age_  |  the age of the patient \n",
    " _Sex_  |  the sex of the patient\n",
    " _tumorType_  |  the the type of tumor, can be one of 7 different diagnoses\n",
    " _isCellLine_  |  indicates whether the origin tissue was a cell line or a patient\n",
    " _study_  |  the specific initiative/consortia that the study was a part of\n",
    " _Symbol_  |  the common names of genes \n",
    " _cellCulture_  |  whether the data was obtained from a cell culture experiment or an _in-vivo_ experiment. Many inherent differences exist between _cell culture_ experiments and _in-vivo_ experiments. These differences may need to be taken into account during analysis and interpretation of the data\n",
    " _totalCounts_  |  the main measure of expression levels of the gene. _(the values documented here are not corrected for batch/study)_ \n",
    " _zScore_  |  normalized counts (counts for a gene can vary significantly due to technical differences in different studies, so we normalized the counts into a zScore for a comparable measurement between samples for the same gene)"
   ]
  },
  {
   "cell_type": "code",
   "execution_count": 9,
   "metadata": {},
   "outputs": [
    {
     "name": "stdout",
     "output_type": "stream",
     "text": [
      "Size of the file:\n",
      "(7778164, 25)\n"
     ]
    }
   ],
   "source": [
    "print(\"Size of the file:\")\n",
    "print(genes_with_meta.shape)"
   ]
  },
  {
   "cell_type": "code",
   "execution_count": 10,
   "metadata": {
    "scrolled": true
   },
   "outputs": [
    {
     "data": {
      "text/plain": [
       "array(['Cutaneous Neurofibroma', 'Neurofibroma',\n",
       "       'Malignant Peripheral Nerve Sheath Tumor',\n",
       "       'Plexiform Neurofibroma', 'normal', 'Low Grade Glioma',\n",
       "       'High Grade Glioma', 'Meningioma', 'schwannoma', 'NF1 tumor',\n",
       "       'Malignant peripheral nerve sheath tumor', 'Schwannoma',\n",
       "       'Ependymoma', 'Ganglioglioma', 'Other'], dtype=object)"
      ]
     },
     "execution_count": 10,
     "metadata": {},
     "output_type": "execute_result"
    }
   ],
   "source": [
    "genes_with_meta['modelOf'].unique()  # tumor types"
   ]
  },
  {
   "cell_type": "code",
   "execution_count": 11,
   "metadata": {},
   "outputs": [
    {
     "data": {
      "image/png": "[encoded data removed]",
      "text/plain": [
       "<Figure size 432x288 with 1 Axes>"
      ]
     },
     "metadata": {
      "needs_background": "light"
     },
     "output_type": "display_data"
    }
   ],
   "source": [
    "# plot histogram of zScore values\n",
    "plt.xlim(-1,1)\n",
    "genes_with_meta.zScore.hist(bins=[0.01*i for i in range(-110,110)]);"
   ]
  },
  {
   "cell_type": "code",
   "execution_count": 12,
   "metadata": {},
   "outputs": [],
   "source": [
    "def howManyUnique(col,df=None) :\n",
    "    if df is None : df = genes_with_meta\n",
    "    return len(df[col].unique())\n",
    "def howManyWith(col,val,ucols=[]) :\n",
    "    df = genes_with_meta[genes_with_meta[col] ==val]\n",
    "    return (len(df),) + tuple(howManyUnique(ucol,df) for ucol in ucols)"
   ]
  },
  {
   "cell_type": "markdown",
   "metadata": {},
   "source": [
    "Just change this line to MPNST:"
   ]
  },
  {
   "cell_type": "code",
   "execution_count": 15,
   "metadata": {},
   "outputs": [],
   "source": [
    "complication='Malignant Peripheral Nerve Sheath Tumor'"
   ]
  },
  {
   "cell_type": "code",
   "execution_count": 16,
   "metadata": {
    "scrolled": true
   },
   "outputs": [
    {
     "name": "stdout",
     "output_type": "stream",
     "text": [
      "('modelOf', 'Malignant Peripheral Nerve Sheath Tumor', ['specimenID', 'individualID'], 345549, 18, 9)\n",
      "('modelOf', 'normal', ['specimenID', 'individualID'], 1970911, 100, 25)\n"
     ]
    }
   ],
   "source": [
    "for ntup in [tup + howManyWith(*tup) for tup in [\n",
    "      ('modelOf',complication, ['specimenID','individualID']), \n",
    "      ('modelOf','normal',['specimenID','individualID']), \n",
    "    ]] :\n",
    "    print(ntup)"
   ]
  },
  {
   "cell_type": "markdown",
   "metadata": {},
   "source": [
    "\n",
    "## Cut down to CNF data and controls derived from normal Schwannn cells:"
   ]
  },
  {
   "cell_type": "code",
   "execution_count": 17,
   "metadata": {},
   "outputs": [],
   "source": [
    "def grabPartDF(cols,withVals=[],df=None) :\n",
    "    if df is None : df = genes_with_meta\n",
    "    partdf = df[cols]\n",
    "    newCols = list(cols)\n",
    "    for col,val in withVals :\n",
    "        partdf = partdf[partdf[col]==val]\n",
    "        newCols.remove(col)\n",
    "    return partdf[newCols]\n",
    "colsL = ['Symbol','specimenID','individualID','zScore','modelOf',]"
   ]
  },
  {
   "cell_type": "code",
   "execution_count": 22,
   "metadata": {},
   "outputs": [],
   "source": [
    "cnfDF = grabPartDF(colsL,\n",
    "                   [('modelOf',complication)],\n",
    "                )\n",
    "normDF = grabPartDF(colsL,\n",
    "                   [('modelOf','normal')],\n",
    "                )\n"
   ]
  },
  {
   "cell_type": "code",
   "execution_count": 23,
   "metadata": {},
   "outputs": [
    {
     "name": "stdout",
     "output_type": "stream",
     "text": [
      "CNF dataset: 18 specimens, 9 individuals\n"
     ]
    }
   ],
   "source": [
    "specimens = sorted(cnfDF.specimenID.unique())\n",
    "individuals = sorted(cnfDF.individualID.unique())\n",
    "print('CNF dataset: {} specimens, {} individuals'.format(len(specimens),len(individuals)))\n"
   ]
  },
  {
   "cell_type": "markdown",
   "metadata": {},
   "source": [
    "**Next we cut the \"normal\" control dataset down** to two cell lines derived from immortalized normal Schwann cells. This was based on advice from Ray Mattingly and Sarah Gosline that these would make the best controls for comparison. See the readme for more details."
   ]
  },
  {
   "cell_type": "code",
   "execution_count": 24,
   "metadata": {
    "scrolled": true
   },
   "outputs": [
    {
     "name": "stdout",
     "output_type": "stream",
     "text": [
      "['AC027', 'AC028', 'AC029', 'AC029-1', 'AC029-2', 'AC030-1', 'AC030-2', 'AC033-1', 'AC033-2', 'AC033-3', 'AC034', 'AC6-1', 'AC6-2', 'AC7-1', 'AC7-2', 'AC7_A3', 'AC7_A4', 'HS11_1', 'HS11_10', 'HS11_11', 'HS11_12', 'HS11_13', 'HS11_14', 'HS11_15', 'HS11_16', 'HS11_17', 'HS11_18', 'HS11_2', 'HS11_3', 'HS11_4', 'HS11_5', 'HS11_6', 'HS11_7', 'HS11_8', 'HS11_9', 'HSC1L_GATCAG_L002', 'HSC1L_S27', 'MTa450-1', 'MTa450-10', 'MTa450-11', 'MTa450-15', 'MTa450-16', 'MTa450-17', 'MTa450-2', 'MTa450-3', 'MTa450-9', 'MTa451-7', 'MTa451-8', 'MTa451-9', 'N10_S25', 'N15_S3', 'N23_S24', 'N3_S26', 'N87_S23', 'Syn10-1', 'Syn10-2', 'Syn10-3', 'Syn10-4', 'Syn10-5', 'Syn10-6', 'Syn10-7', 'Syn10-8', 'Syn1_1', 'Syn1_10', 'Syn1_11', 'Syn1_12', 'Syn1_13', 'Syn1_14', 'Syn1_15', 'Syn1_16', 'Syn1_17', 'Syn1_18', 'Syn1_19', 'Syn1_2', 'Syn1_20', 'Syn1_21', 'Syn1_22', 'Syn1_23', 'Syn1_24', 'Syn1_3', 'Syn1_4', 'Syn1_5', 'Syn1_6', 'Syn1_7', 'Syn1_8', 'Syn1_9', 'Syn2-1', 'Syn2-2', 'Syn2-3', 'Syn3-1', 'Syn3-2', 'Syn3-3', 'WT-N10_TAGCTT_L002', 'WT-N23_TGACCA_L002', 'WT-N3_ACAGTG_L002', 'WT-N87_TTAGGC_L002', 'ipn02.3', 'ipn97.4', 'pn97.4', 'pnNF95.12B']\n"
     ]
    }
   ],
   "source": [
    "print(sorted(normDF.specimenID.unique())) # all \"normal\" specimens"
   ]
  },
  {
   "cell_type": "code",
   "execution_count": 28,
   "metadata": {},
   "outputs": [
    {
     "data": {
      "text/plain": [
       "38196"
      ]
     },
     "execution_count": 28,
     "metadata": {},
     "output_type": "execute_result"
    }
   ],
   "source": [
    "normDF = normDF[normDF.specimenID.isin(('ipn02.3','ipn97.4'))] # derived from normal Schwann cells\n",
    "len(normDF)"
   ]
  },
  {
   "cell_type": "code",
   "execution_count": 29,
   "metadata": {
    "scrolled": true
   },
   "outputs": [
    {
     "data": {
      "text/plain": [
       "(True,)"
      ]
     },
     "execution_count": 29,
     "metadata": {},
     "output_type": "execute_result"
    }
   ],
   "source": [
    "set(cnfDF.Symbol.unique())==set(normDF.Symbol.unique()), # sanity check"
   ]
  },
  {
   "cell_type": "code",
   "execution_count": 30,
   "metadata": {},
   "outputs": [
    {
     "data": {
      "text/html": [
       "<div>\n",
       "<style scoped>\n",
       "    .dataframe tbody tr th:only-of-type {\n",
       "        vertical-align: middle;\n",
       "    }\n",
       "\n",
       "    .dataframe tbody tr th {\n",
       "        vertical-align: top;\n",
       "    }\n",
       "\n",
       "    .dataframe thead th {\n",
       "        text-align: right;\n",
       "    }\n",
       "</style>\n",
       "<table border=\"1\" class=\"dataframe\">\n",
       "  <thead>\n",
       "    <tr style=\"text-align: right;\">\n",
       "      <th></th>\n",
       "      <th>Symbol</th>\n",
       "      <th>specimenID</th>\n",
       "      <th>individualID</th>\n",
       "      <th>zScore</th>\n",
       "    </tr>\n",
       "  </thead>\n",
       "  <tbody>\n",
       "    <tr>\n",
       "      <td>1170500</td>\n",
       "      <td>A1BG</td>\n",
       "      <td>ipn02.3</td>\n",
       "      <td>NaN</td>\n",
       "      <td>-0.172290</td>\n",
       "    </tr>\n",
       "    <tr>\n",
       "      <td>1170501</td>\n",
       "      <td>A1BG</td>\n",
       "      <td>ipn97.4</td>\n",
       "      <td>NaN</td>\n",
       "      <td>-0.233391</td>\n",
       "    </tr>\n",
       "    <tr>\n",
       "      <td>1170517</td>\n",
       "      <td>A1CF</td>\n",
       "      <td>ipn02.3</td>\n",
       "      <td>NaN</td>\n",
       "      <td>-0.190585</td>\n",
       "    </tr>\n",
       "    <tr>\n",
       "      <td>1170518</td>\n",
       "      <td>A1CF</td>\n",
       "      <td>ipn97.4</td>\n",
       "      <td>NaN</td>\n",
       "      <td>-0.242574</td>\n",
       "    </tr>\n",
       "    <tr>\n",
       "      <td>1170534</td>\n",
       "      <td>A2M</td>\n",
       "      <td>ipn02.3</td>\n",
       "      <td>NaN</td>\n",
       "      <td>-0.178365</td>\n",
       "    </tr>\n",
       "  </tbody>\n",
       "</table>\n",
       "</div>"
      ],
      "text/plain": [
       "        Symbol specimenID individualID    zScore\n",
       "1170500   A1BG    ipn02.3          NaN -0.172290\n",
       "1170501   A1BG    ipn97.4          NaN -0.233391\n",
       "1170517   A1CF    ipn02.3          NaN -0.190585\n",
       "1170518   A1CF    ipn97.4          NaN -0.242574\n",
       "1170534    A2M    ipn02.3          NaN -0.178365"
      ]
     },
     "execution_count": 30,
     "metadata": {},
     "output_type": "execute_result"
    }
   ],
   "source": [
    "normDF.head()"
   ]
  },
  {
   "cell_type": "markdown",
   "metadata": {},
   "source": [
    "\n",
    "## Calculate \"most disturbed\" genes"
   ]
  },
  {
   "cell_type": "code",
   "execution_count": 31,
   "metadata": {},
   "outputs": [],
   "source": [
    "normMeanDF = normDF.groupby(['Symbol']).mean() # average zScore values for each gene on the \"normal\" set"
   ]
  },
  {
   "cell_type": "code",
   "execution_count": 32,
   "metadata": {
    "scrolled": true
   },
   "outputs": [
    {
     "data": {
      "text/plain": [
       "((345549, 4), (38196, 4), (19098, 1))"
      ]
     },
     "execution_count": 32,
     "metadata": {},
     "output_type": "execute_result"
    }
   ],
   "source": [
    "cnfDF.shape,normDF.shape,normMeanDF.shape"
   ]
  },
  {
   "cell_type": "code",
   "execution_count": 33,
   "metadata": {
    "scrolled": false
   },
   "outputs": [
    {
     "data": {
      "text/html": [
       "<div>\n",
       "<style scoped>\n",
       "    .dataframe tbody tr th:only-of-type {\n",
       "        vertical-align: middle;\n",
       "    }\n",
       "\n",
       "    .dataframe tbody tr th {\n",
       "        vertical-align: top;\n",
       "    }\n",
       "\n",
       "    .dataframe thead th {\n",
       "        text-align: right;\n",
       "    }\n",
       "</style>\n",
       "<table border=\"1\" class=\"dataframe\">\n",
       "  <thead>\n",
       "    <tr style=\"text-align: right;\">\n",
       "      <th></th>\n",
       "      <th>zScore</th>\n",
       "    </tr>\n",
       "    <tr>\n",
       "      <th>Symbol</th>\n",
       "      <th></th>\n",
       "    </tr>\n",
       "  </thead>\n",
       "  <tbody>\n",
       "    <tr>\n",
       "      <td>A1BG</td>\n",
       "      <td>-0.202840</td>\n",
       "    </tr>\n",
       "    <tr>\n",
       "      <td>A1CF</td>\n",
       "      <td>-0.216580</td>\n",
       "    </tr>\n",
       "    <tr>\n",
       "      <td>A2M</td>\n",
       "      <td>-0.181888</td>\n",
       "    </tr>\n",
       "    <tr>\n",
       "      <td>A2ML1</td>\n",
       "      <td>-0.216443</td>\n",
       "    </tr>\n",
       "    <tr>\n",
       "      <td>A3GALT2</td>\n",
       "      <td>-0.216558</td>\n",
       "    </tr>\n",
       "  </tbody>\n",
       "</table>\n",
       "</div>"
      ],
      "text/plain": [
       "           zScore\n",
       "Symbol           \n",
       "A1BG    -0.202840\n",
       "A1CF    -0.216580\n",
       "A2M     -0.181888\n",
       "A2ML1   -0.216443\n",
       "A3GALT2 -0.216558"
      ]
     },
     "execution_count": 33,
     "metadata": {},
     "output_type": "execute_result"
    }
   ],
   "source": [
    "normMeanDF.head()"
   ]
  },
  {
   "cell_type": "code",
   "execution_count": 34,
   "metadata": {},
   "outputs": [],
   "source": [
    "normMeanMap = dict(zip(normMeanDF.index,normMeanDF.as_matrix().squeeze()))\n",
    "# maps gene symbol -> average expression value on the \"normal\" set"
   ]
  },
  {
   "cell_type": "code",
   "execution_count": 35,
   "metadata": {},
   "outputs": [],
   "source": [
    "# map gene symbol -> list of absolute difference of zScore between CNF specimens and \"normal\" average\n",
    "disturbLMap = dict((sym,[]) for sym in normMeanMap)\n",
    "for sym,_,_,v in cnfDF.as_matrix() :\n",
    "    disturbLMap[sym].append(abs(v-normMeanMap[sym]))\n",
    "def countAllDisturbed(thresh) :\n",
    "    # count total number of absolute differences above thresh (used for sanity check)\n",
    "    tot = totLen = 0\n",
    "    for vs in disturbLMap.values() :\n",
    "        totLen += len(vs)\n",
    "        tot += sum(1 if v>=thresh else 0 for v in vs)\n",
    "    return tot,totLen\n",
    "def listAllDisturbVals(maxVal=2.0) :\n",
    "    # sorted list of all absolute differences clipped to maxVal (used for sanity check)\n",
    "    return sorted(min(v,maxVal) for v in itertools.chain.from_iterable(disturbLMap.values()))  "
   ]
  },
  {
   "cell_type": "code",
   "execution_count": 36,
   "metadata": {},
   "outputs": [],
   "source": [
    "# map gene symbol -> average absolute difference over CNF specimens, removing the maximal value\n",
    "disturbMap = dict((sym,[]) for sym in normMeanMap)\n",
    "for sym,vs in disturbLMap.items() :\n",
    "    vvs = list(vs)\n",
    "    vvs.remove(max(vs))\n",
    "    disturbMap[sym] = sum(vvs)/len(vvs)"
   ]
  },
  {
   "cell_type": "markdown",
   "metadata": {},
   "source": [
    "**A few sanity checks:**"
   ]
  },
  {
   "cell_type": "code",
   "execution_count": 37,
   "metadata": {},
   "outputs": [
    {
     "data": {
      "image/png": "[encoded data removed]",
      "text/plain": [
       "<Figure size 432x288 with 1 Axes>"
      ]
     },
     "metadata": {
      "needs_background": "light"
     },
     "output_type": "display_data"
    }
   ],
   "source": [
    "plt.plot(listAllDisturbVals());"
   ]
  },
  {
   "cell_type": "code",
   "execution_count": 38,
   "metadata": {},
   "outputs": [
    {
     "data": {
      "text/plain": [
       "(21632, 345549)"
      ]
     },
     "execution_count": 38,
     "metadata": {},
     "output_type": "execute_result"
    }
   ],
   "source": [
    "countAllDisturbed(0.75)"
   ]
  },
  {
   "cell_type": "code",
   "execution_count": 39,
   "metadata": {},
   "outputs": [
    {
     "data": {
      "image/png": "[encoded data removed]",
      "text/plain": [
       "<Figure size 432x288 with 1 Axes>"
      ]
     },
     "metadata": {
      "needs_background": "light"
     },
     "output_type": "display_data"
    }
   ],
   "source": [
    "plt.plot(sorted(disturbMap.values())[:-100]);"
   ]
  },
  {
   "cell_type": "markdown",
   "metadata": {},
   "source": [
    "## Read the Drug Target Explorer data and build a map: target -> list of known associated compounds"
   ]
  },
  {
   "cell_type": "code",
   "execution_count": 40,
   "metadata": {},
   "outputs": [],
   "source": [
    "def readDrugAssoc(fPath='drug_target_associations_v2.txt') :\n",
    "    with open(fPath,'r') as f :\n",
    "        return list(csv.reader(f,delimiter=' '))"
   ]
  },
  {
   "cell_type": "code",
   "execution_count": 41,
   "metadata": {
    "scrolled": true
   },
   "outputs": [],
   "source": [
    "drugAssoc = readDrugAssoc()"
   ]
  },
  {
   "cell_type": "code",
   "execution_count": 42,
   "metadata": {
    "scrolled": true
   },
   "outputs": [],
   "source": [
    "drugAssocMap = collections.defaultdict(list)\n",
    "for r in drugAssoc[1:] :\n",
    "    drugAssocMap[r[1]].append(r[-6])"
   ]
  },
  {
   "cell_type": "markdown",
   "metadata": {},
   "source": [
    "# Build a heatmap of \"most disturbed\" genes, annotated with known copper associations"
   ]
  },
  {
   "cell_type": "code",
   "execution_count": 43,
   "metadata": {},
   "outputs": [],
   "source": [
    "nSyms = 100\n",
    "syms = sorted(disturbMap.keys(), key=lambda x : disturbMap[x], reverse=True)[:nSyms]\n",
    "symInd = dict((sym,i) for i,sym in enumerate(syms))"
   ]
  },
  {
   "cell_type": "code",
   "execution_count": 71,
   "metadata": {},
   "outputs": [
    {
     "data": {
      "image/png": "[encoded data removed]",
      "text/plain": [
       "<Figure size 720x2016 with 1 Axes>"
      ]
     },
     "metadata": {
      "needs_background": "light"
     },
     "output_type": "display_data"
    }
   ],
   "source": [
    "disturbHM = np.zeros((nSyms,len(specimens)+3))\n",
    "maxHMVal = 20.0\n",
    "disturbHM[:,-3:] = maxHMVal\n",
    "y_labels=[]\n",
    "x_labels=[]\n",
    "fig,ax = plt.subplots(figsize=(10,28))\n",
    "#ax.xaxis.grid(False)\n",
    "ax.xaxis.tick_top()\n",
    "ax.set_yticks(np.arange(len(disturbHM)))\n",
    "ax.set_yticklabels(syms)\n",
    "y_labels=syms\n",
    "ax.set_xticks(np.arange(len(specimens)+4))\n",
    "ax.set_xticklabels(specimens + [' ','copper?',' '])\n",
    "x_labels=specimens + ['_1','copper?','_2']\n",
    "plt.setp(ax.get_xticklabels(),rotation=85)\n",
    "totKnown = totCopper = 0\n",
    "for sym,specimenID,_,v in cnfDF.as_matrix() :\n",
    "    if sym in symInd :\n",
    "        i = symInd[sym]\n",
    "        j = specimens.index(specimenID)\n",
    "        avgV = normMeanMap[sym]\n",
    "        disturbHM[i,j] = min(maxHMVal,abs(v-avgV))\n",
    "        if 'Copper' in drugAssocMap[sym] :\n",
    "            isHigher = v > avgV\n",
    "            ax.text(j,i,\n",
    "                    '>' if isHigher else '<',\n",
    "                    ha='center',va='center',\n",
    "                    color='g' if isHigher else 'y')\n",
    "for i,sym in enumerate(syms) :\n",
    "    if len(drugAssocMap[sym])==0 :\n",
    "        ax.text(len(specimens)+1,i,'X',ha='center',va='center',color='b')\n",
    "    else :\n",
    "        totKnown += 1\n",
    "        if 'Copper' in drugAssocMap[sym] :\n",
    "            totCopper += 1\n",
    "            ax.text(len(specimens)+1,i,'+',ha='center',va='center',color='g')\n",
    "        else :\n",
    "            ax.text(len(specimens)+1,i,'-',ha='center',va='center',color='r')\n",
    "ax.imshow(disturbHM, cmap='hot', interpolation='nearest', aspect='auto')\n",
    "plt.savefig('shirinRNA.png')"
   ]
  },
  {
   "cell_type": "markdown",
   "metadata": {},
   "source": [
    "## copper? column:\n",
    "## X not in Drug Target Explorer \n",
    "## + = in DTE, known association with copper\n",
    "## - = in DTE, no known association with copper"
   ]
  },
  {
   "cell_type": "code",
   "execution_count": 45,
   "metadata": {
    "scrolled": true
   },
   "outputs": [
    {
     "name": "stdout",
     "output_type": "stream",
     "text": [
      "16 of 54 (30%) of \"most disturbed\" genes in the DTE had known copper associations \n"
     ]
    }
   ],
   "source": [
    "print('{} of {} ({:.0%}) of \"most disturbed\" genes in the DTE had known copper associations '\n",
    "      .format(totCopper,totKnown,totCopper/float(totKnown)))"
   ]
  },
  {
   "cell_type": "code",
   "execution_count": 68,
   "metadata": {},
   "outputs": [],
   "source": [
    "copperGene=[r for r in drugAssoc if r[-6].lower()=='copper']"
   ]
  },
  {
   "cell_type": "code",
   "execution_count": 69,
   "metadata": {
    "scrolled": true
   },
   "outputs": [
    {
     "name": "stdout",
     "output_type": "stream",
     "text": [
      "144 of 3739 (4%) of all target genes in the DTE have a known association with copper\n"
     ]
    }
   ],
   "source": [
    "totCopper,totKnown = len(copperGene),len(drugAssocMap)\n",
    "print('{} of {} ({:.0%}) of all target genes in the DTE have a known association with copper'\n",
    "      .format(totCopper,totKnown,totCopper/float(totKnown)))"
   ]
  },
  {
   "cell_type": "code",
   "execution_count": null,
   "metadata": {},
   "outputs": [],
   "source": [
    "mpnst=pd.DataFrame(disturbHM,columns=x_labels)\n",
    "mpnst.insert(loc=0,column='gene',value=y_labels)"
   ]
  },
  {
   "cell_type": "code",
   "execution_count": 97,
   "metadata": {},
   "outputs": [],
   "source": [
    "mpnst['has_copper']=['Copper' in drugAssocMap[x] for x in y_labels]"
   ]
  },
  {
   "cell_type": "code",
   "execution_count": 98,
   "metadata": {},
   "outputs": [],
   "source": [
    "mpnst_cu = deepcopy(mpnst[['gene']+[x for x in x_labels if 'Malignant' in x]+['has_copper']])"
   ]
  },
  {
   "cell_type": "code",
   "execution_count": 99,
   "metadata": {},
   "outputs": [],
   "source": [
    "mpnst_cu = mpnst_cu[mpnst_cu.has_copper]"
   ]
  },
  {
   "cell_type": "code",
   "execution_count": 108,
   "metadata": {},
   "outputs": [],
   "source": [
    "mpnst_cu['sum_score']=mpnst_cu.iloc[:,1:5].sum(axis=1)"
   ]
  },
  {
   "cell_type": "code",
   "execution_count": 112,
   "metadata": {},
   "outputs": [],
   "source": [
    "genes=mpnst_cu.sort_values('sum_score',ascending=False).gene.values"
   ]
  },
  {
   "cell_type": "code",
   "execution_count": 113,
   "metadata": {},
   "outputs": [
    {
     "data": {
      "text/plain": [
       "array(['EEF1A1', 'GAPDH', 'ENO1', 'B2M', 'RPSA', 'HSPA8', 'PKM', 'TKT',\n",
       "       'RACK1', 'PPIA', 'RPS2', 'HSPD1', 'TUBB', 'APP', 'LDHA', 'ACTG1'],\n",
       "      dtype=object)"
      ]
     },
     "execution_count": 113,
     "metadata": {},
     "output_type": "execute_result"
    }
   ],
   "source": [
    "genes"
   ]
  },
  {
   "cell_type": "code",
   "execution_count": 134,
   "metadata": {},
   "outputs": [],
   "source": [
    "drugs=set()\n",
    "for gene in genes:\n",
    "    drugs.update(set(drugAssocMap[gene]))\n",
    "\n",
    "drugs = {x:0 for x in drugs}\n",
    "\n",
    "for gene in genes:\n",
    "    for drug in drugAssocMap[gene]:\n",
    "        drugs[drug] += 1"
   ]
  },
  {
   "cell_type": "code",
   "execution_count": 135,
   "metadata": {},
   "outputs": [],
   "source": [
    "drugs=list(reversed(sorted([(y,x) for x,y in drugs.items()])))"
   ]
  },
  {
   "cell_type": "code",
   "execution_count": 136,
   "metadata": {},
   "outputs": [],
   "source": [
    "drugs=[(y,x) for x,y in drugs if y not in ['Copper', 'Zinc'] and x > 1]"
   ]
  },
  {
   "cell_type": "code",
   "execution_count": 137,
   "metadata": {},
   "outputs": [
    {
     "data": {
      "text/plain": [
       "[('Artenimol', 9), ('NSC-119911', 2), ('NADH', 2)]"
      ]
     },
     "execution_count": 137,
     "metadata": {},
     "output_type": "execute_result"
    }
   ],
   "source": [
    "drugs"
   ]
  },
  {
   "cell_type": "code",
   "execution_count": 138,
   "metadata": {},
   "outputs": [
    {
     "data": {
      "text/plain": [
       "['EEF1A1', 'GAPDH', 'ENO1', 'HSPA8', 'PKM', 'PPIA', 'TUBB', 'LDHA', 'ACTG1']"
      ]
     },
     "execution_count": 138,
     "metadata": {},
     "output_type": "execute_result"
    }
   ],
   "source": [
    "[gene for gene in genes if drugs[0][0] in drugAssocMap[gene]]"
   ]
  },
  {
   "cell_type": "code",
   "execution_count": 139,
   "metadata": {},
   "outputs": [
    {
     "name": "stdout",
     "output_type": "stream",
     "text": [
      "Artenimol ['EEF1A1', 'GAPDH', 'ENO1', 'HSPA8', 'PKM', 'PPIA', 'TUBB', 'LDHA', 'ACTG1']\n",
      "NSC-119911 ['GAPDH', 'HSPA8']\n",
      "NADH ['GAPDH', 'LDHA']\n"
     ]
    }
   ],
   "source": [
    "for drug,count in drugs:\n",
    "    print(drug, [gene for gene in genes if drug in drugAssocMap[gene]])"
   ]
  },
  {
   "cell_type": "code",
   "execution_count": null,
   "metadata": {},
   "outputs": [],
   "source": []
  }
 ],
 "metadata": {
  "kernelspec": {
   "display_name": "Python 3",
   "language": "python",
   "name": "python3"
  },
  "language_info": {
   "codemirror_mode": {
    "name": "ipython",
    "version": 3
   },
   "file_extension": ".py",
   "mimetype": "text/x-python",
   "name": "python",
   "nbconvert_exporter": "python",
   "pygments_lexer": "ipython3",
   "version": "3.7.2"
  }
 },
 "nbformat": 4,
 "nbformat_minor": 2
}
